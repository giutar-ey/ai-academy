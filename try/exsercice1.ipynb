{
 "cells": [
  {
   "cell_type": "code",
   "execution_count": 1,
   "id": "9f421f2e",
   "metadata": {},
   "outputs": [],
   "source": [
    "from typing import TypedDict\n",
    "from langgraph.graph import StateGraph"
   ]
  },
  {
   "cell_type": "code",
   "execution_count": 2,
   "id": "02a6cebc",
   "metadata": {},
   "outputs": [],
   "source": [
    "# qua definiamo lo State, ossia i dati che andranno in input e output all'interno dei grafi\n",
    "class MyState(TypedDict):\n",
    "    message: str "
   ]
  },
  {
   "cell_type": "code",
   "execution_count": 3,
   "id": "76987443",
   "metadata": {},
   "outputs": [],
   "source": [
    "# definiamo qua una funzione che dovrà essere eseguito all'interno del nodo\n",
    "\n",
    "def saluto(state: MyState) -> MyState:\n",
    "    \"\"\"funzione che dice chi sei\"\"\"\n",
    "\n",
    "    state['message'] = f\"Sei proprio un grande atleta {state['message']}\"\n",
    "\n",
    "    return state"
   ]
  },
  {
   "cell_type": "code",
   "execution_count": 4,
   "id": "cf5d675b",
   "metadata": {},
   "outputs": [],
   "source": [
    "graph = StateGraph(MyState)\n",
    "\n",
    "graph.add_node('saluto', saluto)\n",
    "\n",
    "graph.set_entry_point('saluto')\n",
    "graph.set_finish_point('saluto')\n",
    "\n",
    "app = graph.compile()"
   ]
  },
  {
   "cell_type": "code",
   "execution_count": 5,
   "id": "fae87d64",
   "metadata": {},
   "outputs": [
    {
     "data": {
      "image/png": "[encoded data removed]",
      "text/plain": [
       "<IPython.core.display.Image object>"
      ]
     },
     "metadata": {},
     "output_type": "display_data"
    }
   ],
   "source": [
    "from IPython.display import Image, display\n",
    "display(Image(app.get_graph().draw_mermaid_png()))"
   ]
  },
  {
   "cell_type": "code",
   "execution_count": 6,
   "id": "1943348f",
   "metadata": {},
   "outputs": [
    {
     "data": {
      "text/plain": [
       "{'message': 'Sei proprio un grande atleta Roberto'}"
      ]
     },
     "execution_count": 6,
     "metadata": {},
     "output_type": "execute_result"
    }
   ],
   "source": [
    "result = app.invoke({'message': 'Roberto'})\n",
    "result"
   ]
  }
 ],
 "metadata": {
  "kernelspec": {
   "display_name": ".venv",
   "language": "python",
   "name": "python3"
  },
  "language_info": {
   "codemirror_mode": {
    "name": "ipython",
    "version": 3
   },
   "file_extension": ".py",
   "mimetype": "text/x-python",
   "name": "python",
   "nbconvert_exporter": "python",
   "pygments_lexer": "ipython3",
   "version": "3.13.5"
  }
 },
 "nbformat": 4,
 "nbformat_minor": 5
}
